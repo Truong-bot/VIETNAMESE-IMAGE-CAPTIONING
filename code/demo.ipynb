{
 "cells": [
  {
   "cell_type": "code",
   "execution_count": 1,
   "metadata": {},
   "outputs": [],
   "source": [
    "\n",
    "from pyexpat import model\n",
    "from tkinter.tix import Tree\n",
    "from caption import *\n",
    "from ipywidgets import interact, interactive, interact_manual\n",
    "import ipywidgets as widgets\n",
    "from IPython.display import display\n",
    "import os"
   ]
  },
  {
   "cell_type": "code",
   "execution_count": 10,
   "metadata": {},
   "outputs": [
    {
     "name": "stdout",
     "output_type": "stream",
     "text": [
      "{'': 'images\\\\.ipynb_checkpoints', 'bongdaVN': 'images\\\\bongdaVN.jpg', 'bongdaVN_2': 'images\\\\bongdaVN_2.jpg', 'dog_1': 'images\\\\dog_1.jpg', 'dog_2': 'images\\\\dog_2.jpg', 'dog_3': 'images\\\\dog_3.jpg', 'maybay': 'images\\\\maybay.jpg', 'maybay_2': 'images\\\\maybay_2.jpg', 'pizza': 'images\\\\pizza.jpg', 'voi': 'images\\\\voi.jpg'}\n"
     ]
    }
   ],
   "source": [
    "images ={}\n",
    "images_dir ='images'\n",
    "for i in os.listdir(images_dir):\n",
    "    name = i.split(\".\")\n",
    "    images[name[0]]=os.path.join(images_dir,i)\n",
    "print(images)"
   ]
  },
  {
   "cell_type": "code",
   "execution_count": 7,
   "metadata": {},
   "outputs": [],
   "source": [
    "smooth = True\n",
    "model_type={\n",
    "    \"coco\":\"coco\",\n",
    "    \"flickr30k\":\"flickr30k\"\n",
    "}\n"
   ]
  },
  {
   "cell_type": "code",
   "execution_count": 8,
   "metadata": {},
   "outputs": [],
   "source": [
    "def demo(image_path,model_wordMap,beam_size):\n",
    "    smooth=True\n",
    "    coco = '\\BEST_checkpoint_coco_5_cap_per_img_5_min_word_freq_review_tokenize_vi.pth.tar'\n",
    "    flickr30k='\\BEST_checkpoint_flickr30k_5_cap_per_img_5_min_word_freq_review_tokenize_vi.pth.tar'\n",
    "    coco_word_map ='\\WORDMAP_coco_5_cap_per_img_5_min_word_freq_review_tokenize_vi.json'\n",
    "    flickr30k_word_map=\"\\WORDMAP_flickr30k_5_cap_per_img_5_min_word_freq_review_tokenize_vi.json\"\n",
    "    img_path = images[image_path]\n",
    "    if model_type[model_wordMap]==\"flickr30k\":\n",
    "        model_path = '.\\model+word_map' + flickr30k\n",
    "        word_map_path ='.\\model+word_map' + flickr30k_word_map\n",
    "    else:\n",
    "        model_path = '.\\model+word_map' + coco\n",
    "        word_map_path ='.\\model+word_map' + coco_word_map\n",
    "    \n",
    "\n",
    "    checkpoint = torch.load(model_path, map_location=str(device))\n",
    "    decoder = checkpoint['decoder']\n",
    "    decoder = decoder.to(device)\n",
    "    decoder.eval()\n",
    "    encoder = checkpoint['encoder']\n",
    "    encoder = encoder.to(device)\n",
    "    encoder.eval()\n",
    "\n",
    "    # Load word map (word2ix)\n",
    "    with open(word_map_path, 'r') as j:\n",
    "        word_map = json.load(j)\n",
    "    rev_word_map = {v: k for k, v in word_map.items()}  # ix2word\n",
    "\n",
    "    # Encode, decode with attention and beam search\n",
    "    seq, alphas = caption_image_beam_search(encoder, decoder, img_path, word_map, beam_size=beam_size)\n",
    "    alphas = torch.FloatTensor(alphas)\n",
    "\n",
    "    # Visualize caption and attention of best sequence\n",
    "    visualize_att(img_path, seq, alphas, rev_word_map, smooth=smooth)"
   ]
  },
  {
   "cell_type": "code",
   "execution_count": 9,
   "metadata": {},
   "outputs": [
    {
     "data": {
      "application/vnd.jupyter.widget-view+json": {
       "model_id": "3d144c616a5e4d6e903249d4d96d48c3",
       "version_major": 2,
       "version_minor": 0
      },
      "text/plain": [
       "interactive(children=(Dropdown(description='image_path', options=('', 'bongdaVN', 'bongdaVN_2', 'dog_1', 'dog_…"
      ]
     },
     "metadata": {},
     "output_type": "display_data"
    }
   ],
   "source": [
    "    int_slider_widget = widgets.IntSlider(min=1,max=5)\n",
    "    w = interactive(demo,image_path=list(images.keys()),model_wordMap=list(model_type.keys()),beam_size=int_slider_widget)\n",
    "    display(w)"
   ]
  },
  {
   "cell_type": "code",
   "execution_count": null,
   "metadata": {},
   "outputs": [],
   "source": []
  }
 ],
 "metadata": {
  "kernelspec": {
   "display_name": "Python 3 (ipykernel)",
   "language": "python",
   "name": "python3"
  },
  "language_info": {
   "codemirror_mode": {
    "name": "ipython",
    "version": 3
   },
   "file_extension": ".py",
   "mimetype": "text/x-python",
   "name": "python",
   "nbconvert_exporter": "python",
   "pygments_lexer": "ipython3",
   "version": "3.8.13"
  },
  "vscode": {
   "interpreter": {
    "hash": "2ea26db5b76081abc2eefd9361f775c6b0a10178ba4bc72a37d1fabe1e3de2c4"
   }
  }
 },
 "nbformat": 4,
 "nbformat_minor": 4
}
